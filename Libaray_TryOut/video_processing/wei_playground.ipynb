{
 "cells": [
  {
   "cell_type": "code",
   "execution_count": 12,
   "metadata": {},
   "outputs": [],
   "source": [
    "from scenedetect import open_video, SceneManager, split_video_ffmpeg\n",
    "from scenedetect.detectors import ContentDetector\n",
    "from scenedetect.video_splitter import split_video_ffmpeg\n",
    "\n",
    "def split_video_into_scenes(video_path, threshold=27.0):\n",
    "    # Open our video, create a scene manager, and add a detector.\n",
    "    video = open_video(video_path)\n",
    "    scene_manager = SceneManager()\n",
    "    scene_manager.add_detector(\n",
    "        ContentDetector(threshold=threshold))\n",
    "    scene_manager.detect_scenes(video, show_progress=True)\n",
    "    scene_list = scene_manager.get_scene_list()\n",
    "    split_video_ffmpeg(video_path, scene_list, show_progress=True)"
   ]
  },
  {
   "cell_type": "code",
   "execution_count": 14,
   "metadata": {},
   "outputs": [],
   "source": [
    "from scenedetect import detect, ContentDetector\n",
    "scene_list = detect('data/travel.mp4', ContentDetector())"
   ]
  },
  {
   "cell_type": "code",
   "execution_count": 15,
   "metadata": {},
   "outputs": [
    {
     "data": {
      "text/plain": [
       "[(00:00:00.000 [frame=0, fps=59.874], 00:00:01.971 [frame=118, fps=59.874]),\n",
       " (00:00:01.971 [frame=118, fps=59.874], 00:00:04.326 [frame=259, fps=59.874]),\n",
       " (00:00:04.326 [frame=259, fps=59.874], 00:00:05.996 [frame=359, fps=59.874]),\n",
       " (00:00:05.996 [frame=359, fps=59.874], 00:00:08.885 [frame=532, fps=59.874]),\n",
       " (00:00:08.885 [frame=532, fps=59.874], 00:00:10.505 [frame=629, fps=59.874]),\n",
       " (00:00:10.505 [frame=629, fps=59.874], 00:00:15.098 [frame=904, fps=59.874])]"
      ]
     },
     "execution_count": 15,
     "metadata": {},
     "output_type": "execute_result"
    }
   ],
   "source": [
    "scene_list"
   ]
  }
 ],
 "metadata": {
  "kernelspec": {
   "display_name": "Python 3",
   "language": "python",
   "name": "python3"
  },
  "language_info": {
   "codemirror_mode": {
    "name": "ipython",
    "version": 3
   },
   "file_extension": ".py",
   "mimetype": "text/x-python",
   "name": "python",
   "nbconvert_exporter": "python",
   "pygments_lexer": "ipython3",
   "version": "3.9.6"
  }
 },
 "nbformat": 4,
 "nbformat_minor": 2
}
