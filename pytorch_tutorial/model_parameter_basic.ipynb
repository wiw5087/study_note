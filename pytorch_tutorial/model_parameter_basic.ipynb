{
  "cells": [
    {
      "cell_type": "code",
      "execution_count": null,
      "metadata": {
        "id": "LVUx5bE3gdPM"
      },
      "outputs": [],
      "source": [
        "# For tips on running notebooks in Google Colab, see\n",
        "# https://pytorch.org/tutorials/beginner/colab\n",
        "%matplotlib inline"
      ]
    },
    {
      "cell_type": "markdown",
      "metadata": {
        "id": "fX15EZBjgdPO"
      },
      "source": [
        "[Introduction](introyt1_tutorial.html) \\|\\|\n",
        "[Tensors](tensors_deeper_tutorial.html) \\|\\|\n",
        "[Autograd](autogradyt_tutorial.html) \\|\\| **Building Models** \\|\\|\n",
        "[TensorBoard Support](tensorboardyt_tutorial.html) \\|\\| [Training\n",
        "Models](trainingyt.html) \\|\\| [Model Understanding](captumyt.html)\n",
        "\n",
        "Building Models with PyTorch\n",
        "============================\n",
        "\n",
        "Follow along with the video below or on\n",
        "[youtube](https://www.youtube.com/watch?v=OSqIP-mOWOI).\n",
        "\n"
      ]
    },
    {
      "cell_type": "markdown",
      "metadata": {
        "id": "34de35c5"
      },
      "source": [
        "\n",
        "\n",
        "`torch.nn.Module` and `torch.nn.Parameter`\n",
        "------------------------------------------\n",
        "\n",
        "In this video, we'll be discussing some of the tools PyTorch makes\n",
        "available for building deep learning networks.\n",
        "\n",
        "Except for `Parameter`, the classes we discuss in this video are all\n",
        "subclasses of `torch.nn.Module`. This is the PyTorch base class meant to\n",
        "encapsulate behaviors specific to PyTorch Models and their components.\n",
        "\n",
        "One important behavior of `torch.nn.Module` is registering parameters.\n",
        "If a particular `Module` subclass has learning weights, these weights\n",
        "are expressed as instances of `torch.nn.Parameter`. The `Parameter`\n",
        "class is a subclass of `torch.Tensor`, with the special behavior that\n",
        "when they are assigned as attributes of a `Module`, they are added to\n",
        "the list of that modules parameters. These parameters may be accessed\n",
        "through the `parameters()` method on the `Module` class.\n",
        "\n",
        "As a simple example, here's a very simple model with two linear layers\n",
        "and an activation function. We'll create an instance of it and ask it to\n",
        "report on its parameters:\n"
      ]
    },
    {
      "cell_type": "code",
      "execution_count": 4,
      "metadata": {
        "id": "Dgdk0FTmgdPQ",
        "outputId": "474ab49f-aacd-4f53-a682-d1674f0be342",
        "colab": {
          "base_uri": "https://localhost:8080/"
        }
      },
      "outputs": [
        {
          "output_type": "stream",
          "name": "stdout",
          "text": [
            "The model:\n",
            "TinyModel(\n",
            "  (linear1): Linear(in_features=100, out_features=200, bias=True)\n",
            "  (activation): ReLU()\n",
            "  (linear2): Linear(in_features=200, out_features=10, bias=True)\n",
            "  (softmax): Softmax(dim=None)\n",
            ")\n",
            "\n",
            "\n",
            "Just one layer:\n",
            "Linear(in_features=200, out_features=10, bias=True)\n",
            "\n",
            "\n",
            "Model params:\n",
            "Parameter containing:\n",
            "tensor([[ 0.0616, -0.0355, -0.0229,  ..., -0.0219, -0.0233, -0.0658],\n",
            "        [ 0.0307,  0.0522,  0.0918,  ...,  0.0173,  0.0681, -0.0165],\n",
            "        [ 0.0181, -0.0223,  0.0670,  ...,  0.0440, -0.0854, -0.0869],\n",
            "        ...,\n",
            "        [ 0.0260, -0.0804,  0.0681,  ..., -0.0819,  0.0733,  0.0143],\n",
            "        [-0.0283, -0.0538, -0.0780,  ...,  0.0836, -0.0336, -0.0948],\n",
            "        [ 0.0140, -0.0741,  0.0448,  ..., -0.0805, -0.0511,  0.0750]],\n",
            "       requires_grad=True)\n",
            "torch.Size([200, 100])\n",
            "Parameter containing:\n",
            "tensor([-0.0737,  0.0666,  0.0597, -0.0245, -0.0427,  0.0581,  0.0420, -0.0005,\n",
            "        -0.0246,  0.0319,  0.0509, -0.0807, -0.0902,  0.0037,  0.0071, -0.0827,\n",
            "        -0.0901, -0.0886, -0.0262, -0.0401,  0.0450,  0.0534, -0.0138, -0.0659,\n",
            "         0.0386, -0.0857,  0.0533, -0.0213,  0.0569,  0.0195,  0.0124,  0.0319,\n",
            "         0.0351, -0.0526, -0.0656,  0.0217,  0.0658, -0.0721, -0.0010,  0.0992,\n",
            "         0.0519, -0.0609, -0.0121, -0.0962, -0.0213,  0.0745, -0.0140, -0.0887,\n",
            "        -0.0861,  0.0286, -0.0675,  0.0365, -0.0444,  0.0444, -0.0776,  0.0473,\n",
            "         0.0637,  0.0044,  0.0067,  0.0933,  0.0788,  0.0949, -0.0083,  0.0579,\n",
            "        -0.0242, -0.0760, -0.0033, -0.0041,  0.0113, -0.0735,  0.0937, -0.0537,\n",
            "         0.0758, -0.0308, -0.0435,  0.0506,  0.0203, -0.0592, -0.0089, -0.0832,\n",
            "         0.0910, -0.0411,  0.0315,  0.0537, -0.0853, -0.0393,  0.0919,  0.0380,\n",
            "         0.0443, -0.0409, -0.0027, -0.0044,  0.0413,  0.0169, -0.0376,  0.0604,\n",
            "        -0.0411,  0.0756,  0.0484, -0.0480, -0.0571, -0.0221,  0.0973, -0.0631,\n",
            "        -0.0926, -0.0827, -0.0282,  0.0142,  0.0951,  0.0848,  0.0256, -0.0706,\n",
            "         0.0667, -0.0900,  0.0472,  0.0293, -0.0541,  0.0678, -0.0483,  0.0416,\n",
            "         0.0913,  0.0294, -0.0669,  0.0941,  0.0554,  0.0048,  0.0399,  0.0778,\n",
            "        -0.0858, -0.0615,  0.0955, -0.0077, -0.0741,  0.0197, -0.0368, -0.0687,\n",
            "         0.0644,  0.0864,  0.0059, -0.0980,  0.0953, -0.0463,  0.0065,  0.0309,\n",
            "         0.0062, -0.0379,  0.0032, -0.0943, -0.0569,  0.0301,  0.0112, -0.0897,\n",
            "        -0.0339, -0.0976,  0.0281,  0.0738,  0.0230, -0.0073, -0.0148, -0.0543,\n",
            "         0.0913, -0.0536,  0.0100,  0.0097,  0.0233, -0.0360,  0.0294, -0.0593,\n",
            "        -0.0819,  0.0017, -0.0327,  0.0827,  0.0062,  0.0861,  0.0893,  0.0205,\n",
            "         0.0382,  0.0096, -0.0402,  0.0481, -0.0742,  0.0151, -0.0865,  0.0336,\n",
            "        -0.0666, -0.0100,  0.0702, -0.0769, -0.0194,  0.0999, -0.0300,  0.0776,\n",
            "         0.0522, -0.0321, -0.0332,  0.0042,  0.0522, -0.0511, -0.0974,  0.0805],\n",
            "       requires_grad=True)\n",
            "torch.Size([200])\n",
            "Parameter containing:\n",
            "tensor([[-0.0356, -0.0216, -0.0044,  ...,  0.0513,  0.0215,  0.0172],\n",
            "        [ 0.0007,  0.0272, -0.0197,  ..., -0.0546,  0.0337,  0.0591],\n",
            "        [-0.0068, -0.0160, -0.0249,  ..., -0.0607, -0.0106,  0.0072],\n",
            "        ...,\n",
            "        [-0.0639, -0.0107,  0.0053,  ...,  0.0438, -0.0437, -0.0119],\n",
            "        [ 0.0690, -0.0310,  0.0302,  ...,  0.0146, -0.0424, -0.0318],\n",
            "        [-0.0457, -0.0447, -0.0301,  ...,  0.0202, -0.0041, -0.0647]],\n",
            "       requires_grad=True)\n",
            "torch.Size([10, 200])\n",
            "Parameter containing:\n",
            "tensor([-0.0648,  0.0171, -0.0540, -0.0020, -0.0220, -0.0050,  0.0112, -0.0531,\n",
            "        -0.0484, -0.0546], requires_grad=True)\n",
            "torch.Size([10])\n",
            "\n",
            "\n",
            "Layer params:\n",
            "Parameter containing:\n",
            "tensor([[-0.0356, -0.0216, -0.0044,  ...,  0.0513,  0.0215,  0.0172],\n",
            "        [ 0.0007,  0.0272, -0.0197,  ..., -0.0546,  0.0337,  0.0591],\n",
            "        [-0.0068, -0.0160, -0.0249,  ..., -0.0607, -0.0106,  0.0072],\n",
            "        ...,\n",
            "        [-0.0639, -0.0107,  0.0053,  ...,  0.0438, -0.0437, -0.0119],\n",
            "        [ 0.0690, -0.0310,  0.0302,  ...,  0.0146, -0.0424, -0.0318],\n",
            "        [-0.0457, -0.0447, -0.0301,  ...,  0.0202, -0.0041, -0.0647]],\n",
            "       requires_grad=True)\n",
            "torch.Size([10, 200])\n",
            "Parameter containing:\n",
            "tensor([-0.0648,  0.0171, -0.0540, -0.0020, -0.0220, -0.0050,  0.0112, -0.0531,\n",
            "        -0.0484, -0.0546], requires_grad=True)\n",
            "torch.Size([10])\n"
          ]
        }
      ],
      "source": [
        "import torch\n",
        "\n",
        "class TinyModel(torch.nn.Module):\n",
        "\n",
        "    def __init__(self):\n",
        "        super(TinyModel, self).__init__()\n",
        "\n",
        "        self.linear1 = torch.nn.Linear(100, 200)\n",
        "        self.activation = torch.nn.ReLU()\n",
        "        self.linear2 = torch.nn.Linear(200, 10)\n",
        "        self.softmax = torch.nn.Softmax()\n",
        "\n",
        "    def forward(self, x):\n",
        "        x = self.linear1(x)\n",
        "        x = self.activation(x)\n",
        "        x = self.linear2(x)\n",
        "        x = self.softmax(x)\n",
        "        return x\n",
        "\n",
        "tinymodel = TinyModel()\n",
        "\n",
        "print('The model:')\n",
        "print(tinymodel)\n",
        "\n",
        "print('\\n\\nJust one layer:')\n",
        "print(tinymodel.linear2)\n",
        "\n",
        "print('\\n\\nModel params:')\n",
        "for param in tinymodel.parameters():\n",
        "    print(param)\n",
        "    print(param.shape)\n",
        "\n",
        "print('\\n\\nLayer params:')\n",
        "for param in tinymodel.linear2.parameters():\n",
        "    print(param)\n",
        "    print(param.shape)"
      ]
    },
    {
      "cell_type": "markdown",
      "metadata": {
        "id": "u_L8lmKGgdPQ"
      },
      "source": [
        "This shows the fundamental structure of a PyTorch model: there is an\n",
        "`__init__()` method that defines the layers and other components of a\n",
        "model, and a `forward()` method where the computation gets done. Note\n",
        "that we can print the model, or any of its submodules, to learn about\n",
        "its structure.\n",
        "\n",
        "Common Layer Types\n",
        "==================\n",
        "\n",
        "Linear Layers\n",
        "-------------\n",
        "\n",
        "The most basic type of neural network layer is a *linear* or *fully\n",
        "connected* layer. This is a layer where every input influences every\n",
        "output of the layer to a degree specified by the layer's weights. If a\n",
        "model has *m* inputs and *n* outputs, the weights will be an *m* x *n*\n",
        "matrix. For example:\n"
      ]
    },
    {
      "cell_type": "code",
      "execution_count": 7,
      "metadata": {
        "id": "cb-jTN1dgdPQ",
        "outputId": "c8980224-70d6-4c1e-84a6-d2e010142bcb",
        "colab": {
          "base_uri": "https://localhost:8080/"
        }
      },
      "outputs": [
        {
          "output_type": "stream",
          "name": "stdout",
          "text": [
            "Input:\n",
            "tensor([[0.3734, 0.4653, 0.6024]])\n",
            "\n",
            "\n",
            "Weight and Bias parameters:\n",
            "Parameter containing:\n",
            "tensor([[-0.0299,  0.5541, -0.4514],\n",
            "        [-0.5570, -0.1591, -0.1125]], requires_grad=True)\n",
            "Parameter containing:\n",
            "tensor([-0.3327, -0.0200], requires_grad=True)\n",
            "\n",
            "\n",
            "Output:\n",
            "tensor([[-0.3580, -0.3698]], grad_fn=<AddmmBackward0>)\n",
            "lin weight\n",
            "Parameter containing:\n",
            "tensor([[-0.0299,  0.5541, -0.4514],\n",
            "        [-0.5570, -0.1591, -0.1125]], requires_grad=True)\n"
          ]
        }
      ],
      "source": [
        "lin = torch.nn.Linear(3, 2)\n",
        "x = torch.rand(1, 3)\n",
        "print('Input:')\n",
        "print(x)\n",
        "\n",
        "print('\\n\\nWeight and Bias parameters:')\n",
        "for param in lin.parameters():\n",
        "    print(param)\n",
        "\n",
        "y = lin(x)\n",
        "print('\\n\\nOutput:')\n",
        "print(y)\n",
        "\n",
        "print(\"lin weight\")\n",
        "print(lin.weight)"
      ]
    },
    {
      "cell_type": "markdown",
      "metadata": {
        "id": "Loy2CzragdPQ"
      },
      "source": [
        "If you do the matrix multiplication of `x` by the linear layer's\n",
        "weights, and add the biases, you'll find that you get the output vector\n",
        "`y`.\n",
        "\n",
        "One other important feature to note: When we checked the weights of our\n",
        "layer with `lin.weight`, it reported itself as a `Parameter` (which is a\n",
        "subclass of `Tensor`), and let us know that it's tracking gradients with\n",
        "autograd. This is a default behavior for `Parameter` that differs from\n",
        "`Tensor`.\n",
        "\n",
        "Linear layers are used widely in deep learning models. One of the most\n",
        "common places you'll see them is in classifier models, which will\n",
        "usually have one or more linear layers at the end, where the last layer\n",
        "will have *n* outputs, where *n* is the number of classes the classifier\n",
        "addresses.\n",
        "\n",
        "Convolutional Layers\n",
        "====================\n",
        "\n",
        "*Convolutional* layers are built to handle data with a high degree of\n",
        "spatial correlation. They are very commonly used in computer vision,\n",
        "where they detect close groupings of features which the compose into\n",
        "higher-level features. They pop up in other contexts too - for example,\n",
        "in NLP applications, where a word's immediate context (that is, the\n",
        "other words nearby in the sequence) can affect the meaning of a\n",
        "sentence.\n",
        "\n",
        "We saw convolutional layers in action in LeNet5 in an earlier video:\n"
      ]
    },
    {
      "cell_type": "code",
      "execution_count": 8,
      "metadata": {
        "id": "bzIu6eOAgdPQ"
      },
      "outputs": [],
      "source": [
        "import torch.functional as F\n",
        "\n",
        "\n",
        "class LeNet(torch.nn.Module):\n",
        "\n",
        "    def __init__(self):\n",
        "        super(LeNet, self).__init__()\n",
        "        # 1 input image channel (black & white), 6 output channels, 5x5 square convolution\n",
        "        # kernel\n",
        "        self.conv1 = torch.nn.Conv2d(1, 6, 5)\n",
        "        self.conv2 = torch.nn.Conv2d(6, 16, 3)\n",
        "        # an affine operation: y = Wx + b\n",
        "        self.fc1 = torch.nn.Linear(16 * 6 * 6, 120)  # 6*6 from image dimension\n",
        "        self.fc2 = torch.nn.Linear(120, 84)\n",
        "        self.fc3 = torch.nn.Linear(84, 10)\n",
        "\n",
        "    def forward(self, x):\n",
        "        # Max pooling over a (2, 2) window\n",
        "        x = F.max_pool2d(F.relu(self.conv1(x)), (2, 2))\n",
        "        # If the size is a square you can only specify a single number\n",
        "        x = F.max_pool2d(F.relu(self.conv2(x)), 2)\n",
        "        x = x.view(-1, self.num_flat_features(x))\n",
        "        x = F.relu(self.fc1(x))\n",
        "        x = F.relu(self.fc2(x))\n",
        "        x = self.fc3(x)\n",
        "        return x\n",
        "\n",
        "    def num_flat_features(self, x):\n",
        "        size = x.size()[1:]  # all dimensions except the batch dimension\n",
        "        num_features = 1\n",
        "        for s in size:\n",
        "            num_features *= s\n",
        "        return num_features"
      ]
    },
    {
      "cell_type": "markdown",
      "metadata": {
        "id": "l-FdV1N_gdPR"
      },
      "source": [
        "Let's break down what's happening in the convolutional layers of this\n",
        "model. Starting with `conv1`:\n",
        "\n",
        "-   LeNet5 is meant to take in a 1x32x32 black & white image. **The\n",
        "    first argument to a convolutional layer's constructor is the number\n",
        "    of input channels.** Here, it is 1. If we were building this model\n",
        "    to look at 3-color channels, it would be 3.\n",
        "-   A convolutional layer is like a window that scans over the image,\n",
        "    looking for a pattern it recognizes. These patterns are called\n",
        "    *features,* and one of the parameters of a convolutional layer is\n",
        "    the number of features we would like it to learn. **This is the\n",
        "    second argument to the constructor is the number of output\n",
        "    features.** Here, we're asking our layer to learn 6 features.\n",
        "-   Just above, I likened the convolutional layer to a window - but how\n",
        "    big is the window? **The third argument is the window or kernel\n",
        "    size.** Here, the \"5\" means we've chosen a 5x5 kernel. (If you want\n",
        "    a kernel with height different from width, you can specify a tuple\n",
        "    for this argument - e.g., `(3, 5)` to get a 3x5 convolution kernel.)\n",
        "\n",
        "The output of a convolutional layer is an *activation map* - a spatial\n",
        "representation of the presence of features in the input tensor. `conv1`\n",
        "will give us an output tensor of 6x28x28; 6 is the number of features,\n",
        "and 28 is the height and width of our map. (The 28 comes from the fact\n",
        "that when scanning a 5-pixel window over a 32-pixel row, there are only\n",
        "28 valid positions.)\n",
        "\n",
        "We then pass the output of the convolution through a ReLU activation\n",
        "function (more on activation functions later), then through a max\n",
        "pooling layer. The max pooling layer takes features near each other in\n",
        "the activation map and groups them together. It does this by reducing\n",
        "the tensor, merging every 2x2 group of cells in the output into a single\n",
        "cell, and assigning that cell the maximum value of the 4 cells that went\n",
        "into it. This gives us a lower-resolution version of the activation map,\n",
        "with dimensions 6x14x14.\n",
        "\n",
        "Our next convolutional layer, `conv2`, expects 6 input channels\n",
        "(corresponding to the 6 features sought by the first layer), has 16\n",
        "output channels, and a 3x3 kernel. It puts out a 16x12x12 activation\n",
        "map, which is again reduced by a max pooling layer to 16x6x6. Prior to\n",
        "passing this output to the linear layers, it is reshaped to a 16 \\* 6 \\*\n",
        "6 = 576-element vector for consumption by the next layer.\n",
        "\n",
        "There are convolutional layers for addressing 1D, 2D, and 3D tensors.\n",
        "There are also many more optional arguments for a conv layer\n",
        "constructor, including stride length(e.g., only scanning every second or\n",
        "every third position) in the input, padding (so you can scan out to the\n",
        "edges of the input), and more. See the\n",
        "[documentation](https://pytorch.org/docs/stable/nn.html#convolution-layers)\n",
        "for more information.\n",
        "\n",
        "Recurrent Layers\n",
        "================\n",
        "\n",
        "*Recurrent neural networks* (or *RNNs)* are used for sequential data\n",
        "-anything from time-series measurements from a scientific instrument to\n",
        "natural language sentences to DNA nucleotides. An RNN does this by\n",
        "maintaining a *hidden state* that acts as a sort of memory for what it\n",
        "has seen in the sequence so far.\n",
        "\n",
        "The internal structure of an RNN layer - or its variants, the LSTM (long\n",
        "short-term memory) and GRU (gated recurrent unit) - is moderately\n",
        "complex and beyond the scope of this video, but we'll show you what one\n",
        "looks like in action with an LSTM-based part-of-speech tagger (a type of\n",
        "classifier that tells you if a word is a noun, verb, etc.):\n"
      ]
    },
    {
      "cell_type": "code",
      "execution_count": null,
      "metadata": {
        "id": "wrlOyVEkgdPR"
      },
      "outputs": [],
      "source": [
        "class LSTMTagger(torch.nn.Module):\n",
        "\n",
        "    def __init__(self, embedding_dim, hidden_dim, vocab_size, tagset_size):\n",
        "        super(LSTMTagger, self).__init__()\n",
        "        self.hidden_dim = hidden_dim\n",
        "\n",
        "        self.word_embeddings = torch.nn.Embedding(vocab_size, embedding_dim)\n",
        "\n",
        "        # The LSTM takes word embeddings as inputs, and outputs hidden states\n",
        "        # with dimensionality hidden_dim.\n",
        "        self.lstm = torch.nn.LSTM(embedding_dim, hidden_dim)\n",
        "\n",
        "        # The linear layer that maps from hidden state space to tag space\n",
        "        self.hidden2tag = torch.nn.Linear(hidden_dim, tagset_size)\n",
        "\n",
        "    def forward(self, sentence):\n",
        "        embeds = self.word_embeddings(sentence) #each word in the sentence one hot encoded according to the vocabulary size\n",
        "        # but still need to use embedding layer to transform it into a dimension where similar words are close to each other\n",
        "        lstm_out, _ = self.lstm(embeds.view(len(sentence), 1, -1))\n",
        "        tag_space = self.hidden2tag(lstm_out.view(len(sentence), -1))\n",
        "        tag_scores = F.log_softmax(tag_space, dim=1)\n",
        "        return tag_scores"
      ]
    },
    {
      "cell_type": "markdown",
      "metadata": {
        "id": "KBPnPjprgdPR"
      },
      "source": [
        "The constructor has four arguments:\n",
        "\n",
        "-   `vocab_size` is the number of words in the input vocabulary. Each\n",
        "    word is a one-hot vector (or unit vector) in a\n",
        "    `vocab_size`-dimensional space.\n",
        "-   `tagset_size` is the number of tags in the output set.\n",
        "-   `embedding_dim` is the size of the *embedding* space for the\n",
        "    vocabulary. An embedding maps a vocabulary onto a low-dimensional\n",
        "    space, where words with similar meanings are close together in the\n",
        "    space.\n",
        "-   `hidden_dim` is the size of the LSTM's memory.\n",
        "\n",
        "The input will be a sentence with the words represented as indices of\n",
        "one-hot vectors. The embedding layer will then map these down to an\n",
        "`embedding_dim`-dimensional space. The LSTM takes this sequence of\n",
        "embeddings and iterates over it, fielding an output vector of length\n",
        "`hidden_dim`. The final linear layer acts as a classifier; applying\n",
        "`log_softmax()` to the output of the final layer converts the output\n",
        "into a normalized set of estimated probabilities that a given word maps\n",
        "to a given tag.\n",
        "\n",
        "If you'd like to see this network in action, check out the [Sequence\n",
        "Models and LSTM\n",
        "Networks](https://pytorch.org/tutorials/beginner/nlp/sequence_models_tutorial.html)\n",
        "tutorial on pytorch.org.\n",
        "\n",
        "Transformers\n",
        "============\n",
        "\n",
        "*Transformers* are multi-purpose networks that have taken over the state\n",
        "of the art in NLP with models like BERT. A discussion of transformer\n",
        "architecture is beyond the scope of this video, but PyTorch has a\n",
        "`Transformer` class that allows you to define the overall parameters of\n",
        "a transformer model - the number of attention heads, the number of\n",
        "encoder & decoder layers, dropout and activation functions, etc. (You\n",
        "can even build the BERT model from this single class, with the right\n",
        "parameters!) The `torch.nn.Transformer` class also has classes to\n",
        "encapsulate the individual components (`TransformerEncoder`,\n",
        "`TransformerDecoder`) and subcomponents (`TransformerEncoderLayer`,\n",
        "`TransformerDecoderLayer`). For details, check out the\n",
        "[documentation](https://pytorch.org/docs/stable/nn.html#transformer-layers)\n",
        "on transformer classes, and the relevant\n",
        "[tutorial](https://pytorch.org/tutorials/beginner/transformer_tutorial.html)\n",
        "on pytorch.org.\n",
        "\n",
        "Other Layers and Functions\n",
        "--------------------------\n",
        "\n",
        "Data Manipulation Layers\n",
        "========================\n",
        "\n",
        "There are other layer types that perform important functions in models,\n",
        "but don't participate in the learning process themselves.\n",
        "\n",
        "**Max pooling** (and its twin, min pooling) reduce a tensor by combining\n",
        "cells, and assigning the maximum value of the input cells to the output\n",
        "cell (we saw this). For example:\n"
      ]
    },
    {
      "cell_type": "code",
      "execution_count": 9,
      "metadata": {
        "id": "VEOXAHzfgdPR",
        "outputId": "5ee8f6a2-401b-4ba3-fff6-56f00f131b5e",
        "colab": {
          "base_uri": "https://localhost:8080/"
        }
      },
      "outputs": [
        {
          "output_type": "stream",
          "name": "stdout",
          "text": [
            "tensor([[[0.2087, 0.9484, 0.1771, 0.0719, 0.2165, 0.1168],\n",
            "         [0.8866, 0.8119, 0.4585, 0.3086, 0.7069, 0.6568],\n",
            "         [0.7174, 0.4527, 0.6312, 0.3670, 0.8109, 0.3097],\n",
            "         [0.0304, 0.9409, 0.6602, 0.4660, 0.8580, 0.1406],\n",
            "         [0.1529, 0.9707, 0.7529, 0.0915, 0.2297, 0.0171],\n",
            "         [0.7046, 0.0658, 0.7343, 0.5532, 0.2341, 0.7404]]])\n",
            "tensor([[[0.9484, 0.8109],\n",
            "         [0.9707, 0.8580]]])\n"
          ]
        }
      ],
      "source": [
        "my_tensor = torch.rand(1, 6, 6)\n",
        "print(my_tensor)\n",
        "\n",
        "maxpool_layer = torch.nn.MaxPool2d(3) #kernel size is 3, meaning max pool over a 3x3 non overlapping region\n",
        "print(maxpool_layer(my_tensor))"
      ]
    },
    {
      "cell_type": "markdown",
      "metadata": {
        "id": "8fupLtNdgdPR"
      },
      "source": [
        "If you look closely at the values above, you'll see that each of the\n",
        "values in the maxpooled output is the maximum value of each quadrant of\n",
        "the 6x6 input.\n",
        "\n",
        "**Normalization layers** re-center and normalize the output of one layer\n",
        "before feeding it to another. Centering and scaling the intermediate\n",
        "tensors has a number of beneficial effects, such as letting you use\n",
        "higher learning rates without exploding/vanishing gradients.\n"
      ]
    },
    {
      "cell_type": "code",
      "execution_count": 14,
      "metadata": {
        "id": "S5E6J-aigdPS",
        "outputId": "08f099f5-079e-45ce-e0d8-85648e2de071",
        "colab": {
          "base_uri": "https://localhost:8080/"
        }
      },
      "outputs": [
        {
          "output_type": "stream",
          "name": "stdout",
          "text": [
            "tensor([[[23.9133, 23.6795, 24.3863, 11.9134, 15.7479],\n",
            "         [18.5311, 16.8400, 16.7996, 17.6974, 23.5236],\n",
            "         [17.0266,  7.8601, 22.3103,  8.4296, 13.8867],\n",
            "         [ 6.1736, 18.4462, 20.2897, 23.0419, 11.1314]],\n",
            "\n",
            "        [[24.1052, 19.1778, 21.1287,  8.7635, 23.1893],\n",
            "         [14.0549,  7.3001, 13.6916, 18.7440, 22.1218],\n",
            "         [14.1692, 14.2280, 18.4624, 23.4535,  9.5668],\n",
            "         [13.6173, 13.9087, 13.2431, 20.9299, 24.6876]]])\n",
            "tensor(17.0043)\n",
            "tensor([[[ 0.8076,  0.7638,  0.8961, -1.4394, -0.7214],\n",
            "         [ 0.3688, -0.0208, -0.0301,  0.1767,  1.5190],\n",
            "         [ 0.4038, -1.3696,  1.4261, -1.2594, -0.2037],\n",
            "         [-1.8671,  0.3418,  0.6737,  1.1690, -0.9747]],\n",
            "\n",
            "        [[ 0.8435, -0.0792,  0.2862, -2.0292,  0.6720],\n",
            "         [-0.6625, -2.2188, -0.7462,  0.4178,  1.1961],\n",
            "         [-0.1490, -0.1376,  0.6816,  1.6473, -1.0394],\n",
            "         [-0.5273, -0.4749, -0.5947,  0.7889,  1.4652]]],\n",
            "       grad_fn=<NativeBatchNormBackward0>)\n",
            "tensor(-2.9802e-08, grad_fn=<MeanBackward0>)\n"
          ]
        }
      ],
      "source": [
        "my_tensor = torch.rand(2, 4, 5) * 20 + 5 #create 2 batches, 4 features, each feature with 5 data\n",
        "print(my_tensor)\n",
        "\n",
        "print(my_tensor.mean())\n",
        "\n",
        "norm_layer = torch.nn.BatchNorm1d(4) # normalize across the second dimension (4 features). Normalization is independent across each batch\n",
        "normed_tensor = norm_layer(my_tensor)\n",
        "print(normed_tensor)\n",
        "\n",
        "print(normed_tensor.mean())"
      ]
    },
    {
      "cell_type": "markdown",
      "metadata": {
        "id": "Ir1cbINlgdPS"
      },
      "source": [
        "Running the cell above, we've added a large scaling factor and offset to\n",
        "an input tensor; you should see the input tensor's `mean()` somewhere in\n",
        "the neighborhood of 15. After running it through the normalization\n",
        "layer, you can see that the values are smaller, and grouped around zero\n",
        "- in fact, the mean should be very small (\\> 1e-8).\n",
        "\n",
        "This is beneficial because many activation functions (discussed below)\n",
        "have their strongest gradients near 0, but sometimes suffer from\n",
        "vanishing or exploding gradients for inputs that drive them far away\n",
        "from zero. Keeping the data centered around the area of steepest\n",
        "gradient will tend to mean faster, better learning and higher feasible\n",
        "learning rates.\n",
        "\n",
        "**Dropout layers** are a tool for encouraging *sparse representations*\n",
        "in your model - that is, pushing it to do inference with less data.\n",
        "\n",
        "Dropout layers work by randomly setting parts of the input tensor\n",
        "*during training* - dropout layers are always turned off for inference.\n",
        "This forces the model to learn against this masked or reduced dataset.\n",
        "For example:\n"
      ]
    },
    {
      "cell_type": "code",
      "execution_count": 15,
      "metadata": {
        "id": "nNnb8luPgdPS",
        "outputId": "031d672e-89dc-4a35-db5a-854aad86c493",
        "colab": {
          "base_uri": "https://localhost:8080/"
        }
      },
      "outputs": [
        {
          "output_type": "stream",
          "name": "stdout",
          "text": [
            "tensor([[[0.6039, 1.1840, 0.2124, 0.0951],\n",
            "         [1.2421, 1.3141, 0.0000, 1.2837],\n",
            "         [1.2961, 0.6665, 1.0441, 0.4969],\n",
            "         [0.0000, 0.0000, 0.7051, 0.0769]]])\n",
            "tensor([[[0.6039, 1.1840, 0.2124, 0.0000],\n",
            "         [1.2421, 0.0000, 0.7735, 0.0000],\n",
            "         [0.0000, 0.6665, 0.0000, 0.0000],\n",
            "         [1.2289, 0.0000, 0.0000, 0.0769]]])\n"
          ]
        }
      ],
      "source": [
        "my_tensor = torch.rand(1, 4, 4)\n",
        "\n",
        "dropout = torch.nn.Dropout(p=0.4)\n",
        "print(dropout(my_tensor))\n",
        "print(dropout(my_tensor))"
      ]
    },
    {
      "cell_type": "markdown",
      "metadata": {
        "id": "7hdlH8MugdPS"
      },
      "source": [
        "Above, you can see the effect of dropout on a sample tensor. You can use\n",
        "the optional `p` argument to set the probability of an individual weight\n",
        "dropping out; if you don't it defaults to 0.5.\n",
        "\n",
        "Activation Functions\n",
        "====================\n",
        "\n",
        "Activation functions make deep learning possible. A neural network is\n",
        "really a program - with many parameters - that *simulates a mathematical\n",
        "function*. If all we did was multiple tensors by layer weights\n",
        "repeatedly, we could only simulate *linear functions;* further, there\n",
        "would be no point to having many layers, as the whole network would\n",
        "reduce could be reduced to a single matrix multiplication. Inserting\n",
        "*non-linear* activation functions between layers is what allows a deep\n",
        "learning model to simulate any function, rather than just linear ones.\n",
        "\n",
        "`torch.nn.Module` has objects encapsulating all of the major activation\n",
        "functions including ReLU and its many variants, Tanh, Hardtanh, sigmoid,\n",
        "and more. It also includes other functions, such as Softmax, that are\n",
        "most useful at the output stage of a model.\n",
        "\n",
        "Loss Functions\n",
        "==============\n",
        "\n",
        "Loss functions tell us how far a model's prediction is from the correct\n",
        "answer. PyTorch contains a variety of loss functions, including common\n",
        "MSE (mean squared error = L2 norm), Cross Entropy Loss and Negative\n",
        "Likelihood Loss (useful for classifiers), and others.\n"
      ]
    }
  ],
  "metadata": {
    "kernelspec": {
      "display_name": "Python 3",
      "language": "python",
      "name": "python3"
    },
    "language_info": {
      "codemirror_mode": {
        "name": "ipython",
        "version": 3
      },
      "file_extension": ".py",
      "mimetype": "text/x-python",
      "name": "python",
      "nbconvert_exporter": "python",
      "pygments_lexer": "ipython3",
      "version": "3.10.14"
    },
    "colab": {
      "provenance": []
    }
  },
  "nbformat": 4,
  "nbformat_minor": 0
}